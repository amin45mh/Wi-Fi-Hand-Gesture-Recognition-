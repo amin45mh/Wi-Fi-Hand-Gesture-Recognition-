{
 "cells": [
  {
   "cell_type": "code",
   "execution_count": 1,
   "id": "1705a8bf-fe10-4edf-b916-c705cc40487c",
   "metadata": {},
   "outputs": [],
   "source": [
    "import scipy.io as scio\n",
    "from scipy.io import loadmat as mat_load\n",
    "import numpy as np\n",
    "import re\n",
    "from __future__ import print_function\n",
    "import glob\n",
    "from numba import jit, cuda\n",
    "import os,sys\n",
    "import tensorflow as tf\n",
    "import keras\n",
    "from keras.layers import Input, GRU, Dense, Flatten, Dropout, Conv2D, Conv3D, MaxPooling2D, MaxPooling3D, TimeDistributed\n",
    "from keras.models import Model, load_model\n",
    "import tensorflow.keras.backend as K\n",
    "from sklearn.metrics import confusion_matrix\n",
    "from keras.backend import set_session\n",
    "from sklearn.model_selection import train_test_split\n",
    "import torch\n",
    "\n",
    "# Parameters\n",
    "use_existing_model = False\n",
    "fraction_for_test = 0.2\n",
    "data_dir = 'train_data/'\n",
    "ALL_MOTION = [1,2,3,4,5,6]\n",
    "N_MOTION = len(ALL_MOTION)\n",
    "T_MAX = 0\n",
    "n_epochs = 30\n",
    "f_dropout_ratio = 0.5\n",
    "n_gru_hidden_units = 128\n",
    "n_batch_size = 32\n",
    "f_learning_rate = 0.001"
   ]
  },
  {
   "cell_type": "code",
   "execution_count": 2,
   "id": "64d508ab-01f9-4a3d-8269-da4052be5c20",
   "metadata": {},
   "outputs": [
    {
     "data": {
      "text/plain": [
       "'NVIDIA GeForce GTX 1060'"
      ]
     },
     "execution_count": 2,
     "metadata": {},
     "output_type": "execute_result"
    }
   ],
   "source": [
    "torch.cuda.get_device_name(0)"
   ]
  },
  {
   "cell_type": "code",
   "execution_count": 3,
   "id": "453d5407-be36-4389-aad7-02406289be4a",
   "metadata": {},
   "outputs": [
    {
     "name": "stdout",
     "output_type": "stream",
     "text": [
      "cuda\n"
     ]
    }
   ],
   "source": [
    "device = torch.device('cuda' if torch.cuda.is_available() else 'cpu')\n",
    "print(device)"
   ]
  },
  {
   "cell_type": "code",
   "execution_count": 4,
   "id": "ea7db8c5-bf62-4f87-beda-926b2ea7e747",
   "metadata": {},
   "outputs": [
    {
     "name": "stdout",
     "output_type": "stream",
     "text": [
      "GPU name:  [PhysicalDevice(name='/physical_device:GPU:0', device_type='GPU')]\n"
     ]
    }
   ],
   "source": [
    "print('GPU name: ', tf.config.experimental.list_physical_devices(\"GPU\"))"
   ]
  },
  {
   "cell_type": "code",
   "execution_count": 5,
   "id": "58c421b2-75c5-408e-b6ad-5e246c4c6d6f",
   "metadata": {},
   "outputs": [
    {
     "data": {
      "text/plain": [
       "[PhysicalDevice(name='/physical_device:GPU:0', device_type='GPU')]"
      ]
     },
     "execution_count": 5,
     "metadata": {},
     "output_type": "execute_result"
    }
   ],
   "source": [
    "tf.config.list_physical_devices('GPU')"
   ]
  },
  {
   "cell_type": "markdown",
   "id": "e0596c8d-a8ba-4e64-9bcb-e50f998dca54",
   "metadata": {},
   "source": [
    "This is for a specific amount of GPU memory to be used"
   ]
  },
  {
   "cell_type": "code",
   "execution_count": 6,
   "id": "3366ae17-2b83-47f2-b2ec-142229750d9a",
   "metadata": {},
   "outputs": [
    {
     "name": "stdout",
     "output_type": "stream",
     "text": [
      "Physical GPUs, 1 Logical GPUs\n"
     ]
    }
   ],
   "source": [
    "gpus = tf.config.list_physical_devices('GPU')\n",
    "tf.config.experimental.set_memory_growth(gpus[0], True)\n",
    "tf.config.set_logical_device_configuration(gpus[0],\n",
    "    [tf.config.LogicalDeviceConfiguration(memory_limit=10240)])\n",
    "logical_gpus = tf.config.list_logical_devices('GPU')\n",
    "print(\"Physical GPUs,\", len(logical_gpus), \"Logical GPUs\")"
   ]
  },
  {
   "cell_type": "markdown",
   "id": "cd07515c-6fd8-4522-9848-c4ff5db4c4a7",
   "metadata": {},
   "source": [
    "memory_limit:\n",
    "- I'm not sure how this actually works. I have 6"
   ]
  },
  {
   "cell_type": "code",
   "execution_count": 7,
   "id": "0526b505-bce6-435d-b2e3-73b0e542df37",
   "metadata": {},
   "outputs": [],
   "source": [
    "def normalize_data(data_1):\n",
    "    # data(ndarray)=>data_norm(ndarray): [20,20,T]=>[20,20,T]\n",
    "    data_1_max = np.concatenate((data_1.max(axis=0),data_1.max(axis=1)),axis=0).max(axis=0)\n",
    "    data_1_min = np.concatenate((data_1.min(axis=0),data_1.min(axis=1)),axis=0).min(axis=0)\n",
    "    if (len(np.where((data_1_max - data_1_min) == 0)[0]) > 0):\n",
    "        return data_1\n",
    "    data_1_max_rep = np.tile(data_1_max,(data_1.shape[0],data_1.shape[1],1,1))\n",
    "    data_1_min_rep = np.tile(data_1_min,(data_1.shape[0],data_1.shape[1],1,1))\n",
    "    data_1_norm = (data_1 - data_1_min_rep) / (data_1_max_rep - data_1_min_rep)\n",
    "    return  data_1_norm"
   ]
  },
  {
   "cell_type": "code",
   "execution_count": 8,
   "id": "a1024489-3c3c-45a9-90a9-1dd30b687ef7",
   "metadata": {},
   "outputs": [],
   "source": [
    "def zero_padding(data, T_MAX):\n",
    "    # data(list)=>data_pad(ndarray): [20,20,T1/T2/...]=>[20,20,T_MAX]\n",
    "    data_pad = []\n",
    "    for i in range(len(data)):\n",
    "        t = np.array(data[i]).shape[0]\n",
    "        data_pad.append(np.pad(data[i], ((T_MAX - t,0),(0,0),(0,0),(0,0)),\n",
    "                               'constant', constant_values = 0))\n",
    "    return np.array(data_pad)"
   ]
  },
  {
   "cell_type": "code",
   "execution_count": 9,
   "id": "1e89b8d1-42e3-4c39-b41d-db9954982df4",
   "metadata": {},
   "outputs": [],
   "source": [
    "def encoding(label, num_class):\n",
    "    # label(list)=>_label(ndarray): [N,]=>[N,num_class]\n",
    "    # assert (np.arange(0,np.unique(label).size)==np.unique(label)).prod()    # Check label from 0 to N\n",
    "    label = np.squeeze(label)\n",
    "    _label = np.eye(num_class)[label-1]     # from label to onehot\n",
    "    return _label"
   ]
  },
  {
   "cell_type": "code",
   "execution_count": 10,
   "id": "79ab148c-aaf6-44f0-a601-3456d365c226",
   "metadata": {},
   "outputs": [],
   "source": [
    "def assemble_model(input_shape, n_class):\n",
    "    model_input = Input(shape=input_shape, dtype='float32', name='name_model_input')\n",
    "\n",
    "    # Feature extraction part\n",
    "    x = TimeDistributed(Conv2D(16,kernel_size=(5,5),activation='relu',data_format='channels_last',\\\n",
    "        input_shape=(T_MAX, 30, 3, 6), padding='same'))(model_input)\n",
    "    x = TimeDistributed(MaxPooling2D(pool_size=(2,2)))(x)\n",
    "    x = TimeDistributed(Flatten())(x)\n",
    "    x = TimeDistributed(Dense(64,activation='relu'))(x)\n",
    "    x = TimeDistributed(Dropout(f_dropout_ratio))(x)\n",
    "    x = TimeDistributed(Dense(64,activation='relu'))(x)\n",
    "    x = GRU(n_gru_hidden_units,return_sequences=False)(x)\n",
    "    x = Dropout(f_dropout_ratio)(x)\n",
    "    model_output = Dense(n_class, activation='softmax', name='name_model_output')(x)\n",
    "\n",
    "    # Model compiling\n",
    "    model = Model(inputs=model_input, outputs=model_output)\n",
    "    model.compile(optimizer=keras.optimizers.RMSprop(lr=f_learning_rate),\n",
    "                    loss='categorical_crossentropy',\n",
    "                    metrics=['accuracy']\n",
    "                )\n",
    "    return model"
   ]
  },
  {
   "cell_type": "code",
   "execution_count": 11,
   "id": "0c9ff75f-e270-4f6b-a4d0-22cb5e52dbc2",
   "metadata": {},
   "outputs": [],
   "source": [
    "def load_data(path):\n",
    "    T_MAX = 0\n",
    "    data = []\n",
    "    label = []\n",
    "    for file in glob.glob(path+'train-ENV1CNT*'):\n",
    "        label_v1 = int(file.split('-')[2].split('.')[0])\n",
    "        data_v1 = mat_load(file)\n",
    "        data_v2 = data_v1['CSI']\n",
    "        \n",
    "        normal = normalize_data(data_v2)\n",
    "        \n",
    "        data.append(normal)\n",
    "        label.append(label_v1)\n",
    "        \n",
    "        if T_MAX < np.array(data_v2).shape[0]:\n",
    "            T_MAX = np.array(data_v2).shape[0]\n",
    "        \n",
    "    label = np.array(label)\n",
    "    encoded_label = encoding(label, N_MOTION)\n",
    "    data = np.array(data)\n",
    "    data = zero_padding(data, T_MAX)\n",
    "    return data, label, encoded_label, T_MAX"
   ]
  },
  {
   "cell_type": "code",
   "execution_count": 12,
   "id": "355230d3-2ff5-49f8-ac19-3520db431543",
   "metadata": {},
   "outputs": [
    {
     "name": "stderr",
     "output_type": "stream",
     "text": [
      "C:\\Users\\lchua\\AppData\\Local\\Temp/ipykernel_12248/454052810.py:20: VisibleDeprecationWarning: Creating an ndarray from ragged nested sequences (which is a list-or-tuple of lists-or-tuples-or ndarrays with different lengths or shapes) is deprecated. If you meant to do this, you must specify 'dtype=object' when creating the ndarray.\n",
      "  data = np.array(data)\n"
     ]
    }
   ],
   "source": [
    "data, label, encoded_label, T_MAX = load_data(data_dir)"
   ]
  },
  {
   "cell_type": "code",
   "execution_count": 13,
   "id": "b625175a-7e7e-4659-9f7b-159bd8f66e57",
   "metadata": {},
   "outputs": [],
   "source": [
    "[data_train, data_test, label_train, label_test] = train_test_split(data, \n",
    "                                                        encoded_label,\n",
    "                                                        test_size=fraction_for_test,\n",
    "                                                        random_state=42)"
   ]
  },
  {
   "cell_type": "code",
   "execution_count": 14,
   "id": "58482edc-8539-40e7-abd5-2a6d6d40272a",
   "metadata": {},
   "outputs": [
    {
     "name": "stdout",
     "output_type": "stream",
     "text": [
      "Model: \"model\"\n",
      "_________________________________________________________________\n",
      " Layer (type)                Output Shape              Param #   \n",
      "=================================================================\n",
      " name_model_input (InputLaye  [(None, 529, 30, 3, 6)]  0         \n",
      " r)                                                              \n",
      "                                                                 \n",
      " time_distributed (TimeDistr  (None, 529, 30, 3, 16)   2416      \n",
      " ibuted)                                                         \n",
      "                                                                 \n",
      " time_distributed_1 (TimeDis  (None, 529, 15, 1, 16)   0         \n",
      " tributed)                                                       \n",
      "                                                                 \n",
      " time_distributed_2 (TimeDis  (None, 529, 240)         0         \n",
      " tributed)                                                       \n",
      "                                                                 \n",
      " time_distributed_3 (TimeDis  (None, 529, 64)          15424     \n",
      " tributed)                                                       \n",
      "                                                                 \n",
      " time_distributed_4 (TimeDis  (None, 529, 64)          0         \n",
      " tributed)                                                       \n",
      "                                                                 \n",
      " time_distributed_5 (TimeDis  (None, 529, 64)          4160      \n",
      " tributed)                                                       \n",
      "                                                                 \n",
      " gru (GRU)                   (None, 128)               74496     \n",
      "                                                                 \n",
      " dropout_1 (Dropout)         (None, 128)               0         \n",
      "                                                                 \n",
      " name_model_output (Dense)   (None, 6)                 774       \n",
      "                                                                 \n",
      "=================================================================\n",
      "Total params: 97,270\n",
      "Trainable params: 97,270\n",
      "Non-trainable params: 0\n",
      "_________________________________________________________________\n"
     ]
    },
    {
     "name": "stderr",
     "output_type": "stream",
     "text": [
      "C:\\Users\\lchua\\anaconda3\\lib\\site-packages\\keras\\optimizers\\optimizer_v2\\rmsprop.py:140: UserWarning: The `lr` argument is deprecated, use `learning_rate` instead.\n",
      "  super().__init__(name, **kwargs)\n"
     ]
    },
    {
     "name": "stdout",
     "output_type": "stream",
     "text": [
      "Epoch 1/30\n",
      "4/4 [==============================] - 5s 396ms/step - loss: 1.8198 - accuracy: 0.1944 - val_loss: 1.8014 - val_accuracy: 0.1667\n",
      "Epoch 2/30\n",
      "4/4 [==============================] - 1s 131ms/step - loss: 1.7848 - accuracy: 0.1759 - val_loss: 1.8052 - val_accuracy: 0.2500\n",
      "Epoch 3/30\n",
      "4/4 [==============================] - 0s 122ms/step - loss: 1.7717 - accuracy: 0.1944 - val_loss: 1.8655 - val_accuracy: 0.1667\n",
      "Epoch 4/30\n",
      "4/4 [==============================] - 1s 129ms/step - loss: 1.7573 - accuracy: 0.2315 - val_loss: 1.8551 - val_accuracy: 0.1667\n",
      "Epoch 5/30\n",
      "4/4 [==============================] - 1s 135ms/step - loss: 1.7837 - accuracy: 0.1944 - val_loss: 1.8781 - val_accuracy: 0.1667\n",
      "Epoch 6/30\n",
      "4/4 [==============================] - 1s 131ms/step - loss: 1.7688 - accuracy: 0.2315 - val_loss: 1.8589 - val_accuracy: 0.1667\n",
      "Epoch 7/30\n",
      "4/4 [==============================] - 1s 126ms/step - loss: 1.7716 - accuracy: 0.2222 - val_loss: 1.8785 - val_accuracy: 0.1667\n",
      "Epoch 8/30\n",
      "4/4 [==============================] - 1s 130ms/step - loss: 1.7634 - accuracy: 0.1759 - val_loss: 1.9364 - val_accuracy: 0.1667\n",
      "Epoch 9/30\n",
      "4/4 [==============================] - 0s 125ms/step - loss: 1.7836 - accuracy: 0.2130 - val_loss: 1.8887 - val_accuracy: 0.1667\n",
      "Epoch 10/30\n",
      "4/4 [==============================] - 0s 122ms/step - loss: 1.7737 - accuracy: 0.2130 - val_loss: 1.8783 - val_accuracy: 0.1667\n",
      "Epoch 11/30\n",
      "4/4 [==============================] - 1s 135ms/step - loss: 1.7635 - accuracy: 0.2315 - val_loss: 1.8457 - val_accuracy: 0.1667\n",
      "Epoch 12/30\n",
      "4/4 [==============================] - 1s 131ms/step - loss: 1.7598 - accuracy: 0.2222 - val_loss: 1.8817 - val_accuracy: 0.1667\n",
      "Epoch 13/30\n",
      "4/4 [==============================] - 1s 141ms/step - loss: 1.7615 - accuracy: 0.2315 - val_loss: 1.8703 - val_accuracy: 0.0833\n",
      "Epoch 14/30\n",
      "4/4 [==============================] - 1s 136ms/step - loss: 1.7512 - accuracy: 0.2778 - val_loss: 1.8943 - val_accuracy: 0.0833\n",
      "Epoch 15/30\n",
      "4/4 [==============================] - 1s 133ms/step - loss: 1.7626 - accuracy: 0.2130 - val_loss: 1.8683 - val_accuracy: 0.0000e+00\n",
      "Epoch 16/30\n",
      "4/4 [==============================] - 1s 130ms/step - loss: 1.7315 - accuracy: 0.2778 - val_loss: 1.8819 - val_accuracy: 0.0833\n",
      "Epoch 17/30\n",
      "4/4 [==============================] - 1s 143ms/step - loss: 1.7376 - accuracy: 0.2500 - val_loss: 1.8915 - val_accuracy: 0.0833\n",
      "Epoch 18/30\n",
      "4/4 [==============================] - 1s 123ms/step - loss: 1.7459 - accuracy: 0.2963 - val_loss: 1.8791 - val_accuracy: 0.1667\n",
      "Epoch 19/30\n",
      "4/4 [==============================] - 1s 136ms/step - loss: 1.7048 - accuracy: 0.2685 - val_loss: 1.8740 - val_accuracy: 0.1667\n",
      "Epoch 20/30\n",
      "4/4 [==============================] - 1s 140ms/step - loss: 1.7237 - accuracy: 0.2500 - val_loss: 1.8835 - val_accuracy: 0.0833\n",
      "Epoch 21/30\n",
      "4/4 [==============================] - 1s 130ms/step - loss: 1.7207 - accuracy: 0.2778 - val_loss: 1.8903 - val_accuracy: 0.1667\n",
      "Epoch 22/30\n",
      "4/4 [==============================] - 1s 136ms/step - loss: 1.6989 - accuracy: 0.2685 - val_loss: 1.9191 - val_accuracy: 0.1667\n",
      "Epoch 23/30\n",
      "4/4 [==============================] - 1s 131ms/step - loss: 1.6575 - accuracy: 0.2778 - val_loss: 1.9236 - val_accuracy: 0.1667\n",
      "Epoch 24/30\n",
      "4/4 [==============================] - 0s 121ms/step - loss: 1.7293 - accuracy: 0.2593 - val_loss: 1.8670 - val_accuracy: 0.1667\n",
      "Epoch 25/30\n",
      "4/4 [==============================] - 0s 127ms/step - loss: 1.6178 - accuracy: 0.3889 - val_loss: 1.9516 - val_accuracy: 0.0833\n",
      "Epoch 26/30\n",
      "4/4 [==============================] - 0s 122ms/step - loss: 1.6904 - accuracy: 0.2593 - val_loss: 1.8989 - val_accuracy: 0.0833\n",
      "Epoch 27/30\n",
      "4/4 [==============================] - 1s 129ms/step - loss: 1.6114 - accuracy: 0.3611 - val_loss: 1.9490 - val_accuracy: 0.1667\n",
      "Epoch 28/30\n",
      "4/4 [==============================] - 0s 122ms/step - loss: 1.5866 - accuracy: 0.3981 - val_loss: 2.0455 - val_accuracy: 0.1667\n",
      "Epoch 29/30\n",
      "4/4 [==============================] - 0s 126ms/step - loss: 1.5829 - accuracy: 0.3519 - val_loss: 1.9169 - val_accuracy: 0.1667\n",
      "Epoch 30/30\n",
      "4/4 [==============================] - 1s 132ms/step - loss: 1.5645 - accuracy: 0.3519 - val_loss: 1.8864 - val_accuracy: 0.2500\n",
      "Saving trained model...\n"
     ]
    }
   ],
   "source": [
    "if use_existing_model:\n",
    "    model = load_model('model_widar3_trained.h5')\n",
    "    model.summary()\n",
    "else:\n",
    "    model = assemble_model(input_shape=(T_MAX, 30, 3, 6), n_class=N_MOTION)    \n",
    "    model.summary()\n",
    "    model.fit({'name_model_input': data_train},{'name_model_output': label_train},\n",
    "              batch_size=n_batch_size,\n",
    "              epochs=n_epochs,\n",
    "              verbose=1,\n",
    "              validation_split=0.1, shuffle=True)\n",
    "    print('Saving trained model...')\n",
    "    model.save('model_widar3_trained.h5')"
   ]
  },
  {
   "cell_type": "code",
   "execution_count": 15,
   "id": "ced6754f-96f8-460b-be94-aeb52dbf15b3",
   "metadata": {},
   "outputs": [
    {
     "name": "stdout",
     "output_type": "stream",
     "text": [
      "Testing...\n",
      "1/1 [==============================] - 1s 647ms/step\n",
      "0.2\n"
     ]
    }
   ],
   "source": [
    "print('Testing...')\n",
    "label_test_pred = model.predict(data_test)\n",
    "label_test_pred = np.argmax(label_test_pred, axis = -1) + 1\n",
    "label_testing = np.argmax(label_test, axis = -1) + 1\n",
    "\n",
    "# Accuracy\n",
    "test_accuracy = np.sum(label_testing == label_test_pred) / \\\n",
    "                (label_testing.shape[0])\n",
    "print(test_accuracy)"
   ]
  },
  {
   "cell_type": "code",
   "execution_count": null,
   "id": "8401baf0-f6de-435c-9623-35141eafb638",
   "metadata": {},
   "outputs": [],
   "source": []
  }
 ],
 "metadata": {
  "kernelspec": {
   "display_name": "Python 3 (ipykernel)",
   "language": "python",
   "name": "python3"
  },
  "language_info": {
   "codemirror_mode": {
    "name": "ipython",
    "version": 3
   },
   "file_extension": ".py",
   "mimetype": "text/x-python",
   "name": "python",
   "nbconvert_exporter": "python",
   "pygments_lexer": "ipython3",
   "version": "3.9.7"
  }
 },
 "nbformat": 4,
 "nbformat_minor": 5
}
